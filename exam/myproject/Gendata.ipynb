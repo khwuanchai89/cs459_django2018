{
 "cells": [
  {
   "cell_type": "code",
   "execution_count": 1,
   "metadata": {},
   "outputs": [
    {
     "name": "stdout",
     "output_type": "stream",
     "text": [
      "db.sqlite3  Gendata.ipynb  init.sh  \u001b[0m\u001b[01;32mmanage.py\u001b[0m*  \u001b[01;34mmyapp\u001b[0m/  \u001b[01;34mmyproject\u001b[0m/\r\n"
     ]
    }
   ],
   "source": [
    "%ls"
   ]
  },
  {
   "cell_type": "code",
   "execution_count": 2,
   "metadata": {},
   "outputs": [
    {
     "data": {
      "text/plain": [
       "array(['Oscar Evans', 'Jacob Davies', 'Jacob Thomas', 'James Taylor',\n",
       "       'Jacob Smith', 'William Taylor', 'William Thomas', 'Jacob Williams',\n",
       "       'Claire Taylor', 'Jacob Johnson'],\n",
       "      dtype='<U16')"
      ]
     },
     "execution_count": 2,
     "metadata": {},
     "output_type": "execute_result"
    }
   ],
   "source": [
    "import random\n",
    "import numpy as np\n",
    "first_names=('Claire','Oliver','Jack','Harry','Jacob','Charlie','Thomas','George','Oscar','James','William')\n",
    "last_names=('Smith','Jones','Williams','Taylor','Davies','Brown','Wilson','Evans','Thomas','Johnson')\n",
    "people={}\n",
    "for i in range(1000):\n",
    "    x=random.choice(first_names)+\" \"+random.choice(last_names)\n",
    "    people[x]=1\n",
    "    \n",
    "members=np.random.permutation(list(people.keys()))\n",
    "members[:10]"
   ]
  },
  {
   "cell_type": "code",
   "execution_count": 3,
   "metadata": {},
   "outputs": [
    {
     "name": "stdout",
     "output_type": "stream",
     "text": [
      "Member object (111) True\n",
      "Member object (112) True\n",
      "Member object (113) True\n",
      "Member object (114) True\n",
      "Member object (115) True\n",
      "Member object (116) True\n",
      "Member object (117) True\n",
      "Member object (118) True\n",
      "Member object (119) True\n",
      "Member object (120) True\n",
      "Member object (121) True\n",
      "Member object (122) True\n",
      "Member object (123) True\n",
      "Member object (124) True\n",
      "Member object (125) True\n",
      "Member object (126) True\n",
      "Member object (127) True\n",
      "Member object (128) True\n",
      "Member object (129) True\n",
      "Member object (130) True\n",
      "Member object (131) True\n",
      "Member object (132) True\n",
      "Member object (133) True\n",
      "Member object (134) True\n",
      "Member object (135) True\n",
      "Member object (136) True\n",
      "Member object (137) True\n",
      "Member object (138) True\n",
      "Member object (139) True\n",
      "Member object (140) True\n",
      "Member object (141) True\n",
      "Member object (142) True\n",
      "Member object (143) True\n",
      "Member object (144) True\n",
      "Member object (145) True\n",
      "Member object (146) True\n",
      "Member object (147) True\n",
      "Member object (148) True\n",
      "Member object (149) True\n",
      "Member object (150) True\n",
      "Member object (151) True\n",
      "Member object (152) True\n",
      "Member object (153) True\n",
      "Member object (154) True\n",
      "Member object (155) True\n",
      "Member object (156) True\n",
      "Member object (157) True\n",
      "Member object (158) True\n",
      "Member object (159) True\n",
      "Member object (160) True\n",
      "Member object (161) True\n",
      "Member object (162) True\n",
      "Member object (163) True\n",
      "Member object (164) True\n",
      "Member object (165) True\n",
      "Member object (166) True\n",
      "Member object (167) True\n",
      "Member object (168) True\n",
      "Member object (169) True\n",
      "Member object (170) True\n",
      "Member object (171) True\n",
      "Member object (172) True\n",
      "Member object (173) True\n",
      "Member object (174) True\n",
      "Member object (175) True\n",
      "Member object (176) True\n",
      "Member object (177) True\n",
      "Member object (178) True\n",
      "Member object (179) True\n",
      "Member object (180) True\n",
      "Member object (181) True\n",
      "Member object (182) True\n",
      "Member object (183) True\n",
      "Member object (184) True\n",
      "Member object (185) True\n",
      "Member object (186) True\n",
      "Member object (187) True\n",
      "Member object (188) True\n",
      "Member object (189) True\n",
      "Member object (190) True\n",
      "Member object (191) True\n",
      "Member object (192) True\n",
      "Member object (193) True\n",
      "Member object (194) True\n",
      "Member object (195) True\n",
      "Member object (196) True\n",
      "Member object (197) True\n",
      "Member object (198) True\n",
      "Member object (199) True\n",
      "Member object (200) True\n",
      "Member object (201) True\n",
      "Member object (202) True\n",
      "Member object (203) True\n",
      "Member object (204) True\n",
      "Member object (205) True\n",
      "Member object (206) True\n",
      "Member object (207) True\n",
      "Member object (208) True\n",
      "Member object (209) True\n",
      "Member object (210) True\n"
     ]
    }
   ],
   "source": [
    "for i in members[:100]:\n",
    "    obj,created=Member.objects.update_or_create(\n",
    "        name=i,\n",
    "        defaults={'name': i},\n",
    "    )\n",
    "    print(obj,created)"
   ]
  },
  {
   "cell_type": "code",
   "execution_count": 12,
   "metadata": {},
   "outputs": [
    {
     "data": {
      "text/plain": [
       "64"
      ]
     },
     "execution_count": 12,
     "metadata": {},
     "output_type": "execute_result"
    }
   ],
   "source": [
    "len(members)"
   ]
  },
  {
   "cell_type": "code",
   "execution_count": null,
   "metadata": {},
   "outputs": [],
   "source": []
  }
 ],
 "metadata": {
  "kernelspec": {
   "display_name": "Django Shell-Plus",
   "language": "python",
   "name": "django_extensions"
  },
  "language_info": {
   "codemirror_mode": {
    "name": "ipython",
    "version": 3
   },
   "file_extension": ".py",
   "mimetype": "text/x-python",
   "name": "python",
   "nbconvert_exporter": "python",
   "pygments_lexer": "ipython3",
   "version": "3.5.2"
  }
 },
 "nbformat": 4,
 "nbformat_minor": 2
}
