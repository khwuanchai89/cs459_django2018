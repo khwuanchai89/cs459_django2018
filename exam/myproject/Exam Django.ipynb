{
 "cells": [
  {
   "cell_type": "markdown",
   "metadata": {},
   "source": [
    "# Questions [40marks]\n",
    "* Q1 Who did spend most money for renting?\n",
    "* Q2 Which room does make the most amount of income?\n",
    "* Q3 How many time Jack Jones rent the room?\n",
    "* Q4 What are the roomss rented by Claire Taylor?\n",
    "* Q5 what is the total income of ALL rooms in June? Between 1st June 2018(inclusive) and 30th June 2018(inclusive), (use return date).\n",
    "* Q6 What are the total incomes of EACH room in June? Between 1st June 2018(inclusive) and 30th June 2018(inclusive), (use return date) \n",
    "* Q7 Find members that have total rent time exactly 8 hours in June?\n",
    "* Q8 Find members that have total rent time greater than or equal than 9 hours in June?\n",
    "* Q9 Find the total rent duration of EACH room in June?\n",
    "* Q10 Find the total income of EACH room in June?\n",
    "\n",
    "# คำถาม [ข้อละ 4 คะแนน รวม 40 คะแนน]\n",
    "* Q1 ใครจ่ายเงินค่าเช่ามากที่สุด\n",
    "* Q2 ห้องเช่าใดทำรายได้มากที่สุด\n",
    "* Q3 Jack Jones เช่าห้องไปกี่ครั้ง\n",
    "* Q4 Claire Taylor เช่าห้องไปกี่ครั้ง\n",
    "* Q5 ในเดือนมิถุนายนมีรายรับรวมเท่าใด\n",
    "* Q6 ในเดือนมิถุนายนแต่ละห้องมีรายรับรวมเท่าใด\n",
    "* Q7 หาชื่อสมาชิกที่เช่าห้อง 8 ชั่วโมงในเดือนมิถุนายน\n",
    "* Q8 หาชื่อสมาชิกที่เช่าห้องมากกว่าหรือเท่ากับ 9 ชั่วโมงในเดือนมิถุนายน\n",
    "* Q9 หาระยะเวลาเช่ารวมของแต่ละห้องในเดือนมิถุนายน\n",
    "* Q10 หารายได้รวมของแต่ละห้องในเดือนมิถุนายน"
   ]
  },
  {
   "cell_type": "code",
   "execution_count": null,
   "metadata": {},
   "outputs": [],
   "source": []
  }
 ],
 "metadata": {
  "kernelspec": {
   "display_name": "Django Shell-Plus",
   "language": "python",
   "name": "django_extensions"
  },
  "language_info": {
   "codemirror_mode": {
    "name": "ipython",
    "version": 3
   },
   "file_extension": ".py",
   "mimetype": "text/x-python",
   "name": "python",
   "nbconvert_exporter": "python",
   "pygments_lexer": "ipython3",
   "version": "3.5.2"
  }
 },
 "nbformat": 4,
 "nbformat_minor": 2
}
